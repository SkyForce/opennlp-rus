{
 "cells": [
  {
   "cell_type": "code",
   "execution_count": 96,
   "metadata": {},
   "outputs": [],
   "source": [
    "import matplotlib.pyplot as plt\n",
    "plt.rcParams['figure.figsize'] = [15, 5]\n",
    "import numpy as np\n",
    "import codecs"
   ]
  },
  {
   "cell_type": "code",
   "execution_count": 97,
   "metadata": {},
   "outputs": [],
   "source": [
    "class Stats(object):\n",
    "\n",
    "    def __init__(self):\n",
    "        self.token_count=0\n",
    "        self.word_count=0\n",
    "        self.tree_count=0\n",
    "        self.words_with_lemma_count=0\n",
    "        self.words_with_deps_count=0\n",
    "        self.f_val_counter={} #key:f=val  value: count\n",
    "        self.deprel_counter={} #key:deprel value: count\n",
    "        \n",
    "    def count_cols(self,cols):\n",
    "        if cols[0].isdigit() or u\".\" in cols[0]: #word or empty word\n",
    "            self.word_count+=1\n",
    "            self.token_count+=1 #every word is also a one-word token\n",
    "        else: #token\n",
    "            b,e=cols[0].split(u\"-\")\n",
    "            b,e=int(b),int(e)\n",
    "            self.token_count-=e-b #every word is counted as a token, so subtract all but one to offset for that\n",
    "        if cols[LEMMA]!=u\"_\" or (cols[LEMMA]==u\"_\" and cols[FORM]==u\"_\"):\n",
    "            self.words_with_lemma_count+=1\n",
    "        if cols[CPOSTAG]!=u\"_\":\n",
    "            self.f_val_counter[u\"CPOSTAG=\"+cols[CPOSTAG]]=self.f_val_counter.get(u\"CPOSTAG=\"+cols[CPOSTAG],0)+1\n",
    "        if cols[FEATS]!=u\"_\":\n",
    "            for cat_is_vals in cols[FEATS].split(u\"|\"):\n",
    "                cat,vals=cat_is_vals.split(u\"=\",1)\n",
    "                for val in vals.split(u\",\"):\n",
    "                    self.f_val_counter[cat+u\"=\"+val]=self.f_val_counter.get(cat+u\"=\"+val,0)+1\n",
    "        if cols[DEPREL]!=u\"_\":\n",
    "            self.deprel_counter[cols[DEPREL]]=self.deprel_counter.get(cols[DEPREL],0)+1\n",
    "        if cols[DEPS]!=u\"_\":\n",
    "            self.words_with_deps_count+=1\n",
    "            for head_and_deprel in cols[DEPS].split(u\"|\"):\n",
    "                head,deprel=head_and_deprel.split(u\":\",1)\n",
    "                self.deprel_counter[deprel]=self.deprel_counter.get(deprel,0)+1\n",
    "    \n",
    "    def print_pos_tag(self):\n",
    "        pos_tag = {}\n",
    "        for cat_is_val in self.f_val_counter:\n",
    "            if cat_is_val.startswith(u\"CPOSTAG=\"):\n",
    "                print(cat_is_val, self.f_val_counter.get(cat_is_val))\n",
    "                pos_tag[cat_is_val] = self.f_val_counter.get(cat_is_val)\n",
    "        x = np.arange(len(pos_tag))\n",
    "        plt.bar(x, height= pos_tag.values()) \n",
    "        plt.xticks(x, list(map(lambda x: x[8:], pos_tag.keys())))\n",
    "        plt.show()\n",
    "    \n",
    "    def trees(self, inp):\n",
    "        \"\"\"\n",
    "        `inp` a file-like object yielding lines as unicode\n",
    "\n",
    "        Yields the input a tree at a time.\n",
    "        \"\"\"\n",
    "        comments=[] #List of comment lines to go with the current tree\n",
    "        lines=[] #List of token/word lines of the current tree\n",
    "        for line_counter, line in enumerate(inp):\n",
    "            line=line.rstrip()\n",
    "            if not line: #empty line\n",
    "                if lines: #Sentence done, yield. Skip otherwise.\n",
    "                    yield comments, lines\n",
    "                    comments=[]\n",
    "                    lines=[]\n",
    "            elif line[0]==u\"#\":\n",
    "                comments.append(line)\n",
    "            elif line[0].isdigit():\n",
    "                cols=line.split(u\"\\t\")\n",
    "                if len(cols)!=COLCOUNT:\n",
    "                    print >> sys.stderr, u\"Line %d: The line has %d columns, but %d are expected. Giving up.\"%(line_counter+1,len(cols),COLCOUNT)\n",
    "                    sys.exit(1)\n",
    "                lines.append(cols)\n",
    "            else: #A line which is not a comment, nor a token/word, nor empty. That's bad!\n",
    "                #TODO warn!\n",
    "                print >> sys.stderr, u\"Line %d not conllu: Giving up.\"%(line_counter+1)\n",
    "                sys.exit(1) #Give a non-zero exit code\n",
    "        else: #end of file\n",
    "            if comments or lines: #Looks like a forgotten empty line at the end of the file, well, okay...\n",
    "                yield comments, lines"
   ]
  },
  {
   "cell_type": "code",
   "execution_count": 98,
   "metadata": {},
   "outputs": [],
   "source": [
    "COLCOUNT=10\n",
    "ID,FORM,LEMMA,CPOSTAG,POSTAG,FEATS,HEAD,DEPREL,DEPS,MISC=range(COLCOUNT)\n",
    "COLNAMES=u\"ID,FORM,LEMMA,CPOSTAG,POSTAG,FEATS,HEAD,DEPREL,DEPS,MISC\".split(u\",\")"
   ]
  },
  {
   "cell_type": "code",
   "execution_count": 99,
   "metadata": {},
   "outputs": [],
   "source": [
    "inp_raw=open('ru_syntagrus-ud-train.conllu',mode=\"rb\")\n",
    "inp=codecs.getreader(\"utf-8\")(inp_raw)"
   ]
  },
  {
   "cell_type": "code",
   "execution_count": 100,
   "metadata": {},
   "outputs": [],
   "source": [
    "stats=Stats()\n",
    "\n",
    "trees = stats.trees(inp)\n",
    "try:\n",
    "    for comments,tree in trees:\n",
    "        stats.tree_count+=1\n",
    "        for cols in tree:\n",
    "            stats.count_cols(cols)\n",
    "except:\n",
    "    traceback.print_exc()\n",
    "    print >> sys.stderr, \"\\n\\n ------- STATS MAY BE EMPTY OR INCOMPLETE ----------\"\n",
    "    pass"
   ]
  },
  {
   "cell_type": "code",
   "execution_count": 101,
   "metadata": {},
   "outputs": [
    {
     "name": "stdout",
     "output_type": "stream",
     "text": [
      "CPOSTAG=SYM 840\n",
      "CPOSTAG=INTJ 78\n",
      "CPOSTAG=VERB 97670\n",
      "CPOSTAG=ADJ 85589\n",
      "CPOSTAG=X 375\n",
      "CPOSTAG=PRON 38438\n",
      "CPOSTAG=PUNCT 157984\n",
      "CPOSTAG=SCONJ 16219\n",
      "CPOSTAG=ADV 44101\n",
      "CPOSTAG=CCONJ 30432\n",
      "CPOSTAG=ADP 81963\n",
      "CPOSTAG=NUM 13746\n",
      "CPOSTAG=PROPN 32401\n",
      "CPOSTAG=AUX 6315\n",
      "CPOSTAG=DET 21968\n",
      "CPOSTAG=NOUN 214497\n",
      "CPOSTAG=PART 27858\n"
     ]
    },
    {
     "data": {
      "image/png": "[encoded data removed]",
      "text/plain": [
       "<matplotlib.figure.Figure at 0x4cc5b72198>"
      ]
     },
     "metadata": {},
     "output_type": "display_data"
    }
   ],
   "source": [
    "stats.print_pos_tag()"
   ]
  }
 ],
 "metadata": {
  "kernelspec": {
   "display_name": "Python 3",
   "language": "python",
   "name": "python3"
  },
  "language_info": {
   "codemirror_mode": {
    "name": "ipython",
    "version": 3
   },
   "file_extension": ".py",
   "mimetype": "text/x-python",
   "name": "python",
   "nbconvert_exporter": "python",
   "pygments_lexer": "ipython3",
   "version": "3.5.1"
  }
 },
 "nbformat": 4,
 "nbformat_minor": 2
}
