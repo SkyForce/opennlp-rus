{
 "cells": [
  {
   "cell_type": "code",
   "execution_count": 1,
   "metadata": {},
   "outputs": [
    {
     "name": "stderr",
     "output_type": "stream",
     "text": [
      "paramiko missing, opening SSH/SCP/SFTP paths will be disabled.  `pip install paramiko` to suppress\n"
     ]
    }
   ],
   "source": [
    "import gensim\n",
    "import os"
   ]
  },
  {
   "cell_type": "code",
   "execution_count": 2,
   "metadata": {},
   "outputs": [],
   "source": [
    "def read_input():\n",
    "    for file in os.listdir('D:\\\\univer\\\\collection5\\\\Collection5'):\n",
    "        if file.endswith(\".txt\"):\n",
    "            with open ('D:\\\\univer\\\\collection5\\\\Collection5\\\\'+file, 'rb') as f:\n",
    "                for i, line in enumerate (f): \n",
    "                    yield gensim.utils.simple_preprocess (line)"
   ]
  },
  {
   "cell_type": "code",
   "execution_count": 3,
   "metadata": {},
   "outputs": [],
   "source": [
    "docs = list(read_input())"
   ]
  },
  {
   "cell_type": "code",
   "execution_count": 4,
   "metadata": {},
   "outputs": [
    {
     "data": {
      "text/plain": [
       "(1698698, 1959580)"
      ]
     },
     "execution_count": 4,
     "metadata": {},
     "output_type": "execute_result"
    }
   ],
   "source": [
    "model = gensim.models.Word2Vec (docs, size=150, window=10, min_count=2, workers=10)\n",
    "model.train(docs,total_examples=len(docs),epochs=10)"
   ]
  },
  {
   "cell_type": "code",
   "execution_count": 5,
   "metadata": {},
   "outputs": [],
   "source": [
    "f = open('embed', \"w+\")"
   ]
  },
  {
   "cell_type": "code",
   "execution_count": 6,
   "metadata": {},
   "outputs": [],
   "source": [
    "for key, ar in model.wv.vocab.items():\n",
    "    f.write(key+' ')\n",
    "    f.writelines(\"%f \" % place for place in model.wv[key])\n",
    "    f.write('\\n')\n",
    "f.close()"
   ]
  },
  {
   "cell_type": "code",
   "execution_count": 11,
   "metadata": {},
   "outputs": [],
   "source": [
    "def read_collect():\n",
    "    with open('res', 'w') as out:\n",
    "        for file in os.listdir('D:\\\\univer\\\\collection5\\\\Collection5'):\n",
    "            if file.endswith(\".ann\"):\n",
    "                bag = {}\n",
    "                with open ('D:\\\\univer\\\\collection5\\\\Collection5\\\\'+file, 'r', encoding=\"utf-8\") as f:\n",
    "                    for i, line in enumerate (f): \n",
    "                        res = line.split()\n",
    "                        bag[int(res[2])] = (int(res[3]), res[1])\n",
    "                with open ('D:\\\\univer\\\\collection5\\\\Collection5\\\\'+file[:-3]+'txt', 'r', encoding=\"utf-8\") as f:\n",
    "                    i = 0\n",
    "                    nl = 0\n",
    "                    while i < os.path.getsize('D:\\\\univer\\\\collection5\\\\Collection5\\\\'+file[:-3]+'txt'):\n",
    "                        if i+nl in bag:\n",
    "                            out.write(\"<START:{0}>{1}<END>\".format(bag[i+nl][1], f.read(bag[i+nl][0]-i-nl)))\n",
    "                            i = bag[i+nl][0]-nl\n",
    "                        else:\n",
    "                            ch=f.read(1)\n",
    "                            out.write(ch)\n",
    "                            if ch == '\\n':\n",
    "                                nl = nl + 1\n",
    "                            i = i + 1\n",
    "                    out.write('\\n')\n",
    "                        \n",
    "                        \n",
    "                    "
   ]
  },
  {
   "cell_type": "code",
   "execution_count": 12,
   "metadata": {},
   "outputs": [],
   "source": [
    "read_collect()"
   ]
  },
  {
   "cell_type": "code",
   "execution_count": null,
   "metadata": {
    "collapsed": true
   },
   "outputs": [],
   "source": []
  }
 ],
 "metadata": {
  "kernelspec": {
   "display_name": "Python 3",
   "language": "python",
   "name": "python3"
  },
  "language_info": {
   "codemirror_mode": {
    "name": "ipython",
    "version": 3
   },
   "file_extension": ".py",
   "mimetype": "text/x-python",
   "name": "python",
   "nbconvert_exporter": "python",
   "pygments_lexer": "ipython3",
   "version": "3.5.1"
  }
 },
 "nbformat": 4,
 "nbformat_minor": 2
}
